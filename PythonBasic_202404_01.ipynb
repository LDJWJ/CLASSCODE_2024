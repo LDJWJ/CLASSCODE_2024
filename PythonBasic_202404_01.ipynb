{
 "cells": [
  {
   "cell_type": "markdown",
   "metadata": {},
   "source": [
    "### 수업 코드 \n",
    " * 일시 : 2024.04.06 \n",
    " * 내용 : Python 기본(입출력, 변수, 자료형, 함수 등)"
   ]
  },
  {
   "cell_type": "code",
   "execution_count": 1,
   "metadata": {},
   "outputs": [
    {
     "name": "stdout",
     "output_type": "stream",
     "text": [
      "<class 'list'>\n"
     ]
    }
   ],
   "source": [
    "## print() : 출력\n",
    "## input() : 입력\n",
    "## type()  : 자료형을 확인하는 함수(str, int, float, list, dict)\n",
    "## int(), str(), list(), dict()\n",
    "a = ['a', 'b', 'c']\n",
    "print(type(a))"
   ]
  },
  {
   "cell_type": "code",
   "execution_count": 2,
   "metadata": {},
   "outputs": [
    {
     "name": "stdout",
     "output_type": "stream",
     "text": [
      "<class 'dict'>\n"
     ]
    }
   ],
   "source": [
    "# d = {  키1:값1  ,   키1:값1  ,  키1:값1  }\n",
    "d = {  1:\"11\"  ,   2:\"22\"  ,  3:\"33\"  }\n",
    "print(type(d))"
   ]
  },
  {
   "cell_type": "markdown",
   "metadata": {},
   "source": [
    "### if문 비교\n",
    "```\n",
    "if (조건식) and (조건식) and (조건식):\n",
    "    실행문1\n",
    "    실행문2\n",
    "else:\n",
    "    실행문1\n",
    "    실행문2\n",
    "```"
   ]
  },
  {
   "cell_type": "markdown",
   "metadata": {},
   "source": [
    "```\n",
    "if (조건식) and (조건식):\n",
    "    실행문1\n",
    "    실행문2\n",
    "elif (조건식):\n",
    "    실행문1\n",
    "elif (조건식):\n",
    "    실행문1\n",
    "else:\n",
    "    실행문1\n",
    "    실행문2\n",
    "```"
   ]
  },
  {
   "cell_type": "markdown",
   "metadata": {},
   "source": [
    "```\n",
    "if  (조건식):\n",
    "    ----\n",
    "\n",
    "for () in ():\n",
    "    반복문\n",
    "\n",
    "def 함수명():\n",
    "    실행문\n",
    "\n",
    "class 클래스명:\n",
    "    실행문\n",
    "\n",
    "class 클래스명():\n",
    "    실행문\n",
    "```\n",
    "\n",
    "\n"
   ]
  },
  {
   "cell_type": "code",
   "execution_count": 4,
   "metadata": {},
   "outputs": [
    {
     "name": "stdout",
     "output_type": "stream",
     "text": [
      "a\n",
      "b\n",
      "c\n"
     ]
    }
   ],
   "source": [
    "a = ['a', 'b', 'c']\n",
    "\n",
    "for b in a:\n",
    "    print(b)"
   ]
  },
  {
   "cell_type": "code",
   "execution_count": 10,
   "metadata": {},
   "outputs": [
    {
     "name": "stdout",
     "output_type": "stream",
     "text": [
      "dict_keys([1, 2, 3])\n",
      "dict_values(['11', [1, 2, 3], '33'])\n",
      "[1, 2, 3]\n"
     ]
    }
   ],
   "source": [
    "d1 = {  1:\"11\"  ,   2:\"22\"  ,  3:\"33\"  }\n",
    "d2 = {  1:\"11\"  ,   2:[1,2,3]  ,  3:\"33\"  }\n",
    "\n",
    "print(d1.keys())\n",
    "print(d1.values())\n",
    "print(d1[3])\n",
    "print(d2[2])"
   ]
  },
  {
   "cell_type": "code",
   "execution_count": null,
   "metadata": {},
   "outputs": [],
   "source": [
    "### 01. 33의 값을 찍어보기\n",
    "### [도전] 02. d2의 [1,2,3]의 2의값을 확인하기\n"
   ]
  },
  {
   "cell_type": "code",
   "execution_count": 5,
   "metadata": {},
   "outputs": [
    {
     "name": "stdout",
     "output_type": "stream",
     "text": [
      "1\n",
      "2\n",
      "3\n"
     ]
    }
   ],
   "source": [
    "d = {  1:\"11\"  ,   2:\"22\"  ,  3:\"33\"  }\n",
    "\n",
    "for b in d:\n",
    "    print(b)"
   ]
  },
  {
   "cell_type": "code",
   "execution_count": 11,
   "metadata": {},
   "outputs": [
    {
     "data": {
      "text/plain": [
       "[0, 1, 2, 3, 4, 5, 6, 7, 8, 9]"
      ]
     },
     "execution_count": 11,
     "metadata": {},
     "output_type": "execute_result"
    }
   ],
   "source": [
    "a = range(0,10,1)\n",
    "list(a)"
   ]
  },
  {
   "cell_type": "code",
   "execution_count": 12,
   "metadata": {},
   "outputs": [
    {
     "name": "stdout",
     "output_type": "stream",
     "text": [
      "0\n",
      "1\n",
      "2\n",
      "3\n",
      "4\n",
      "5\n",
      "6\n",
      "7\n",
      "8\n",
      "9\n"
     ]
    }
   ],
   "source": [
    "### 데이터 셋\n",
    "### 리스트, 딕셔너리, range() \n",
    "for a in range(0,10,1):\n",
    "    print(a)"
   ]
  },
  {
   "cell_type": "code",
   "execution_count": 14,
   "metadata": {},
   "outputs": [],
   "source": [
    "### 함수는 무엇인가?\n",
    "# print(), input()\n",
    "# type(), int(), str(), float(), list(), .....\n"
   ]
  },
  {
   "cell_type": "code",
   "execution_count": 15,
   "metadata": {},
   "outputs": [
    {
     "name": "stdout",
     "output_type": "stream",
     "text": [
      "정수형입니다.\n"
     ]
    }
   ],
   "source": [
    "def mytype(a):\n",
    "    # a에 대한 자료형 확인하기\n",
    "    if isinstance(a, int):\n",
    "        # print(\"정수형입니다.\")\n",
    "        print(\"int\")\n",
    "    elif isinstance(a, float):\n",
    "        print(\"float\")\n",
    "    elif isinstance(a, str):\n",
    "        print(\"str\")\n",
    "    elif isinstance(a, list):\n",
    "        print(\"리스트형입니다.\")\n",
    "    elif isinstance(a, tuple):\n",
    "        print(\"튜플형입니다.\")\n",
    "    elif isinstance(a, dict):\n",
    "        print(\"사전형입니다.\")\n",
    "    elif isinstance(a, set):\n",
    "        print(\"집합형입니다.\")\n",
    "    else:\n",
    "        print(\"알 수 없는 자료형입니다.\")\n",
    "\n",
    "mytype(10)\n"
   ]
  },
  {
   "cell_type": "code",
   "execution_count": 17,
   "metadata": {},
   "outputs": [
    {
     "name": "stdout",
     "output_type": "stream",
     "text": [
      "myint\n"
     ]
    }
   ],
   "source": [
    "def myint():\n",
    "    # a를 정수형으로 바꾸는 함수 코드\n",
    "    print(\"myint\")\n",
    "\n",
    "myint()"
   ]
  },
  {
   "cell_type": "code",
   "execution_count": 21,
   "metadata": {},
   "outputs": [
    {
     "name": "stdout",
     "output_type": "stream",
     "text": [
      "6\n"
     ]
    }
   ],
   "source": [
    "# 두개의 값을 전달받아서, 더해준다.\n",
    "def fnc1(a,b,c):\n",
    "    # a를 정수형으로 바꾸는 함수 코드\n",
    "    result = a + b + c\n",
    "    print(result)\n",
    "\n",
    "fnc1(1,2,3)"
   ]
  },
  {
   "cell_type": "code",
   "execution_count": 23,
   "metadata": {},
   "outputs": [
    {
     "name": "stdout",
     "output_type": "stream",
     "text": [
      "11\n"
     ]
    }
   ],
   "source": [
    "# 두개의 값을 전달받아서, 더해준다.\n",
    "def fnc1(a,b=5,c=5):\n",
    "    # a를 정수형으로 바꾸는 함수 코드\n",
    "    result = a + b + c\n",
    "    print(result)\n",
    "\n",
    "fnc1(1)"
   ]
  },
  {
   "cell_type": "code",
   "execution_count": 24,
   "metadata": {},
   "outputs": [
    {
     "name": "stdout",
     "output_type": "stream",
     "text": [
      "10\n",
      "\n",
      "10\n",
      "\n",
      "10\n",
      "\n",
      "10\n",
      "\n"
     ]
    }
   ],
   "source": [
    "print(10, end='\\n\\n')\n",
    "print(10, end='\\n\\n')\n",
    "print(10, end='\\n\\n')\n",
    "print(10, end='\\n\\n')"
   ]
  },
  {
   "cell_type": "code",
   "execution_count": 25,
   "metadata": {},
   "outputs": [
    {
     "name": "stdout",
     "output_type": "stream",
     "text": [
      "<class 'str'>\n"
     ]
    }
   ],
   "source": [
    "a = \"hello\"\n",
    "print(type(a))"
   ]
  },
  {
   "cell_type": "code",
   "execution_count": 26,
   "metadata": {},
   "outputs": [
    {
     "name": "stdout",
     "output_type": "stream",
     "text": [
      "myint\n"
     ]
    }
   ],
   "source": [
    "def myint():\n",
    "    # a를 정수형으로 바꾸는 함수 코드\n",
    "    print(\"myint\")\n",
    "\n",
    "myint()"
   ]
  },
  {
   "cell_type": "code",
   "execution_count": 27,
   "metadata": {},
   "outputs": [
    {
     "name": "stdout",
     "output_type": "stream",
     "text": [
      "1\n"
     ]
    }
   ],
   "source": [
    "# 값을 넘겨준다.\n",
    "def fnc1(a):  # 매개변수\n",
    "    result = a\n",
    "    print(result)\n",
    "\n",
    "fnc1(1)  # 인수 "
   ]
  },
  {
   "cell_type": "code",
   "execution_count": 28,
   "metadata": {},
   "outputs": [
    {
     "name": "stdout",
     "output_type": "stream",
     "text": [
      "2\n"
     ]
    }
   ],
   "source": [
    "# 매개변수에 초기값이 정의된 형태\n",
    "def fnc1(a,b=0,c=0):\n",
    "    # a를 정수형으로 바꾸는 함수 코드\n",
    "    result = a + b + c\n",
    "    print(result)\n",
    "\n",
    "fnc1(a=1, b=1)"
   ]
  },
  {
   "cell_type": "code",
   "execution_count": 29,
   "metadata": {},
   "outputs": [
    {
     "name": "stdout",
     "output_type": "stream",
     "text": [
      "2\n"
     ]
    }
   ],
   "source": [
    "# 매개변수에 초기값이 정의된 형태. 결과를 넘겨준다.\n",
    "def fnc1(a,b=0,c=0):\n",
    "    # a를 정수형으로 바꾸는 함수 코드\n",
    "    result = a + b + c\n",
    "    return result\n",
    "\n",
    "a1 = fnc1(a=1, b=1)\n",
    "print(a1)"
   ]
  },
  {
   "cell_type": "code",
   "execution_count": 30,
   "metadata": {},
   "outputs": [
    {
     "data": {
      "text/plain": [
       "str"
      ]
     },
     "execution_count": 30,
     "metadata": {},
     "output_type": "execute_result"
    }
   ],
   "source": [
    "type(\"aaa\")"
   ]
  },
  {
   "cell_type": "code",
   "execution_count": 31,
   "metadata": {},
   "outputs": [
    {
     "name": "stdout",
     "output_type": "stream",
     "text": [
      "1000\n"
     ]
    }
   ],
   "source": [
    "print(1000)"
   ]
  },
  {
   "cell_type": "code",
   "execution_count": 32,
   "metadata": {},
   "outputs": [
    {
     "name": "stdout",
     "output_type": "stream",
     "text": [
      "1 2 3 4 5 6 7\n"
     ]
    }
   ],
   "source": [
    "print(1,2,3,4,5,6,7)"
   ]
  },
  {
   "cell_type": "code",
   "execution_count": 33,
   "metadata": {},
   "outputs": [
    {
     "name": "stdout",
     "output_type": "stream",
     "text": [
      "(1, 2, 3, 5)\n"
     ]
    }
   ],
   "source": [
    "def add_many(*args):\n",
    "    print(args)\n",
    "\n",
    "add_many(1,2,3,5)"
   ]
  },
  {
   "cell_type": "code",
   "execution_count": 35,
   "metadata": {},
   "outputs": [
    {
     "name": "stdout",
     "output_type": "stream",
     "text": [
      "[1, 2, 3, 4] None\n"
     ]
    }
   ],
   "source": [
    "a = [1,2,3]\n",
    "\n",
    "result = a.append(4)\n",
    "print(a, result)"
   ]
  },
  {
   "cell_type": "code",
   "execution_count": 36,
   "metadata": {},
   "outputs": [],
   "source": [
    "a1 = {}\n",
    "a = [1,2,3,4]  # 리스트\n",
    "a2 = (1,2,3,4) # 튜플\n",
    "\n",
    "# 리스트는 요소를 추가, 삭제, 변경할 수 있습니다.\n",
    "# 튜플은 요소를 추가, 삭제, 변경할 수 없다.\n",
    "\n",
    "# 리스트는 용량이 커진다.\n",
    "# 튜플은 용량이 작아진다.(속도가 빨라질 수 있다.)\n",
    "\n",
    "# 속도:\n",
    "# 일반적으로 리스트가 튜플보다 조작이 더 빠릅니다. \n",
    "# 튜플은 불변이므로 리스트에 비해 메모리 관리 및 조작 오버헤드가 적습니다."
   ]
  },
  {
   "cell_type": "code",
   "execution_count": 37,
   "metadata": {},
   "outputs": [
    {
     "data": {
      "text/plain": [
       "['__add__',\n",
       " '__class__',\n",
       " '__class_getitem__',\n",
       " '__contains__',\n",
       " '__delattr__',\n",
       " '__delitem__',\n",
       " '__dir__',\n",
       " '__doc__',\n",
       " '__eq__',\n",
       " '__format__',\n",
       " '__ge__',\n",
       " '__getattribute__',\n",
       " '__getitem__',\n",
       " '__getstate__',\n",
       " '__gt__',\n",
       " '__hash__',\n",
       " '__iadd__',\n",
       " '__imul__',\n",
       " '__init__',\n",
       " '__init_subclass__',\n",
       " '__iter__',\n",
       " '__le__',\n",
       " '__len__',\n",
       " '__lt__',\n",
       " '__mul__',\n",
       " '__ne__',\n",
       " '__new__',\n",
       " '__reduce__',\n",
       " '__reduce_ex__',\n",
       " '__repr__',\n",
       " '__reversed__',\n",
       " '__rmul__',\n",
       " '__setattr__',\n",
       " '__setitem__',\n",
       " '__sizeof__',\n",
       " '__str__',\n",
       " '__subclasshook__',\n",
       " 'append',\n",
       " 'clear',\n",
       " 'copy',\n",
       " 'count',\n",
       " 'extend',\n",
       " 'index',\n",
       " 'insert',\n",
       " 'pop',\n",
       " 'remove',\n",
       " 'reverse',\n",
       " 'sort']"
      ]
     },
     "execution_count": 37,
     "metadata": {},
     "output_type": "execute_result"
    }
   ],
   "source": [
    "dir(a)"
   ]
  },
  {
   "cell_type": "code",
   "execution_count": null,
   "metadata": {},
   "outputs": [],
   "source": []
  },
  {
   "cell_type": "code",
   "execution_count": 38,
   "metadata": {},
   "outputs": [
    {
     "data": {
      "text/plain": [
       "['__add__',\n",
       " '__class__',\n",
       " '__class_getitem__',\n",
       " '__contains__',\n",
       " '__delattr__',\n",
       " '__dir__',\n",
       " '__doc__',\n",
       " '__eq__',\n",
       " '__format__',\n",
       " '__ge__',\n",
       " '__getattribute__',\n",
       " '__getitem__',\n",
       " '__getnewargs__',\n",
       " '__getstate__',\n",
       " '__gt__',\n",
       " '__hash__',\n",
       " '__init__',\n",
       " '__init_subclass__',\n",
       " '__iter__',\n",
       " '__le__',\n",
       " '__len__',\n",
       " '__lt__',\n",
       " '__mul__',\n",
       " '__ne__',\n",
       " '__new__',\n",
       " '__reduce__',\n",
       " '__reduce_ex__',\n",
       " '__repr__',\n",
       " '__rmul__',\n",
       " '__setattr__',\n",
       " '__sizeof__',\n",
       " '__str__',\n",
       " '__subclasshook__',\n",
       " 'count',\n",
       " 'index']"
      ]
     },
     "execution_count": 38,
     "metadata": {},
     "output_type": "execute_result"
    }
   ],
   "source": [
    "dir(a2)"
   ]
  },
  {
   "cell_type": "code",
   "execution_count": null,
   "metadata": {},
   "outputs": [],
   "source": []
  }
 ],
 "metadata": {
  "kernelspec": {
   "display_name": "Python 3",
   "language": "python",
   "name": "python3"
  },
  "language_info": {
   "codemirror_mode": {
    "name": "ipython",
    "version": 3
   },
   "file_extension": ".py",
   "mimetype": "text/x-python",
   "name": "python",
   "nbconvert_exporter": "python",
   "pygments_lexer": "ipython3",
   "version": "3.11.5"
  }
 },
 "nbformat": 4,
 "nbformat_minor": 2
}
